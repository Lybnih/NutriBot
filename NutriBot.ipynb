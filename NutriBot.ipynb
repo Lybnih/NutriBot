{
  "nbformat": 4,
  "nbformat_minor": 0,
  "metadata": {
    "colab": {
      "provenance": [],
      "authorship_tag": "ABX9TyMj6rw0R6gO+lJNhs7RuJd+",
      "include_colab_link": true
    },
    "kernelspec": {
      "name": "python3",
      "display_name": "Python 3"
    },
    "language_info": {
      "name": "python"
    }
  },
  "cells": [
    {
      "cell_type": "markdown",
      "metadata": {
        "id": "view-in-github",
        "colab_type": "text"
      },
      "source": [
        "<a href=\"https://colab.research.google.com/github/Lybnih/NutriBot/blob/main/NutriBot.ipynb\" target=\"_parent\"><img src=\"https://colab.research.google.com/assets/colab-badge.svg\" alt=\"Open In Colab\"/></a>"
      ]
    },
    {
      "cell_type": "code",
      "source": [
        "# Instalação de pacotes\n",
        "!pip install -q -U google-generativeai\n",
        "!pip install -q gspread\n",
        "!pip install -q PyPDF2"
      ],
      "metadata": {
        "id": "UP_zfKgp55D4",
        "colab": {
          "base_uri": "https://localhost:8080/"
        },
        "outputId": "6358e8c2-79a5-4abe-9d84-b5c25467ea79"
      },
      "execution_count": 6,
      "outputs": [
        {
          "output_type": "stream",
          "name": "stdout",
          "text": [
            "\u001b[?25l     \u001b[90m━━━━━━━━━━━━━━━━━━━━━━━━━━━━━━━━━━━━━━━━\u001b[0m \u001b[32m0.0/232.6 kB\u001b[0m \u001b[31m?\u001b[0m eta \u001b[36m-:--:--\u001b[0m\r\u001b[2K     \u001b[91m━━━━━━━━━━━━━━━━━━━━━━━━━━━━━━━━━━━━━━\u001b[0m\u001b[91m╸\u001b[0m\u001b[90m━\u001b[0m \u001b[32m225.3/232.6 kB\u001b[0m \u001b[31m6.6 MB/s\u001b[0m eta \u001b[36m0:00:01\u001b[0m\r\u001b[2K     \u001b[90m━━━━━━━━━━━━━━━━━━━━━━━━━━━━━━━━━━━━━━━━\u001b[0m \u001b[32m232.6/232.6 kB\u001b[0m \u001b[31m4.8 MB/s\u001b[0m eta \u001b[36m0:00:00\u001b[0m\n",
            "\u001b[?25h"
          ]
        }
      ]
    },
    {
      "cell_type": "code",
      "execution_count": 7,
      "metadata": {
        "id": "yNshaMkJ5uSg"
      },
      "outputs": [],
      "source": [
        "# Importações\n",
        "import PyPDF2\n",
        "import numpy as np\n",
        "import pandas as pd\n",
        "from google_drive_downloader import GoogleDriveDownloader as gdd\n",
        "import google.generativeai as genai"
      ]
    },
    {
      "cell_type": "code",
      "source": [
        "api_key = \"Insira sua chave API do Google Generative"  # Insira sua chave API do Google Generative AI\n",
        "genai.configure(api_key=api_key)\n",
        "\n",
        "generation_config = {\n",
        "    \"candidate_count\": 1,\n",
        "    \"temperature\": 1,\n",
        "}\n",
        "\n",
        "safety_settings = {\n",
        "    'HATE': 'BLOCK_NONE',\n",
        "    'HARASSMENT': 'BLOCK_NONE',\n",
        "    'SEXUAL': 'BLOCK_NONE',\n",
        "    'DANGEROUS': 'BLOCK_NONE'\n",
        "}\n",
        "\n",
        "# Crie um objeto GenerativeModel\n",
        "model = genai.GenerativeModel(model_name='gemini-1.0-pro',\n",
        "                                generation_config=generation_config,\n",
        "                                safety_settings=safety_settings)\n",
        "\n",
        "prompt = \"Voce é Anya NutriAI é uma nutricionista engraçada nordestina, profissional intima de seus clientes para dar broncas e fazer piadas. Voce se comunica de forma objetiva, encorajadora e intima sempre chamando carinhosamente ou pelo nome, demonstrando interesse genuíno pelo bem-estar do cliente.\\n a consulta se divide em tres tópicos.\\n\\n Se e apenas se souber do necessario como esta nos arquivos, sugira:\\nUm plano alimentar personalizado, com sugestões de refeições balanceadas e adequadas às suas necessidades e quantidades.\\n\\nUma análise de refeição, onde o cliente diz o que comeu e voce avalia xom um feedback sobre a composição nutricional da sua refeição.\\n\\nSugestões de receitas saudáveis e saborosas que se encaixam nas suas preferências e restrições.\\n\"\n"
      ],
      "metadata": {
        "id": "V3osRL-Pr2Qo"
      },
      "execution_count": 8,
      "outputs": []
    },
    {
      "source": [
        "from google_drive_downloader import GoogleDriveDownloader as gdd\n",
        "\n",
        "#CSV alimentos\n",
        "gdd.download_file_from_google_drive(file_id = '1xoUUfU43VF6XlQq_1jkMSI-CrSqYATtr',\n",
        "                                    dest_path = './Copia_de_alimentos.csv',\n",
        "                                    showsize = True)\n",
        "\n",
        "alimentos = pd.read_csv(\"./Copia_de_alimentos.csv\", sep = ',')\n",
        "\n",
        "\n",
        "#CSV Calculos\n",
        "\n",
        "gdd.download_file_from_google_drive(file_id = '1oB8FUP52ckp0AdjlyUUGwq6TPx9uwOIo',\n",
        "                                    dest_path = './calculo.csv',\n",
        "                                    showsize = True)\n",
        "\n",
        "calculo = pd.read_csv(\"./calculo.csv\", sep = ',')"
      ],
      "cell_type": "code",
      "metadata": {
        "id": "yKL8IftS1g9D",
        "collapsed": true,
        "colab": {
          "base_uri": "https://localhost:8080/"
        },
        "outputId": "415c989b-9b25-4b49-fb43-0244416b2028"
      },
      "execution_count": 9,
      "outputs": [
        {
          "output_type": "stream",
          "name": "stdout",
          "text": [
            "Downloading 1xoUUfU43VF6XlQq_1jkMSI-CrSqYATtr into ./Copia_de_alimentos.csv... \n",
            "128.0 KiB Done.\n",
            "Downloading 1oB8FUP52ckp0AdjlyUUGwq6TPx9uwOIo into ./calculo.csv... \n",
            "160.0 KiB Done.\n"
          ]
        }
      ]
    },
    {
      "cell_type": "code",
      "source": [
        "# Função para extrair texto de um PDF\n",
        "def extract_pdf_text(pdf_path):\n",
        "    with open(pdf_path, \"rb\") as file:\n",
        "        pdf_reader = PyPDF2.PdfFileReader(file)\n",
        "        text = \"\"\n",
        "        for page_num in range(pdf_reader.numPages):\n",
        "            text += pdf_reader.getPage(page_num).extractText()\n",
        "        return text"
      ],
      "metadata": {
        "id": "C2ZV3BBfn7Cp"
      },
      "execution_count": 10,
      "outputs": []
    },
    {
      "cell_type": "code",
      "source": [
        "#Listando os modelos disponíveis\n",
        "for modelo in genai.list_models():\n",
        "  if 'generateContent' in modelo.supported_generation_methods:\n",
        "    print(modelo.name)"
      ],
      "metadata": {
        "id": "kRm4n_Es564v",
        "colab": {
          "base_uri": "https://localhost:8080/",
          "height": 146
        },
        "collapsed": true,
        "outputId": "9caaea97-5dfa-4284-8add-6a710adeedb5"
      },
      "execution_count": 11,
      "outputs": [
        {
          "output_type": "stream",
          "name": "stdout",
          "text": [
            "models/gemini-1.0-pro\n",
            "models/gemini-1.0-pro-001\n",
            "models/gemini-1.0-pro-latest\n",
            "models/gemini-1.0-pro-vision-latest\n",
            "models/gemini-1.5-pro-latest\n",
            "models/gemini-pro\n",
            "models/gemini-pro-vision\n"
          ]
        }
      ]
    },
    {
      "cell_type": "code",
      "source": [
        "# Inicialização do chat\n",
        "chat = model.start_chat(history=[])\n",
        "\n",
        "# Introdução\n",
        "print(\"Anya: Eita, voltei! 😄 Pronta para dar um up na sua saúde! 💪 \\nVamos começar essa jornada? ✨\")\n",
        "input(\"Você: \")\n",
        "print(\"\\nAnya: Ôxe, meu amo! Eu sou a Anya NutriAI, sua nutricionista virtual 😉. Tô aqui pra cuidar da saúde de vocês com muito amor\")\n",
        "\n",
        "# Coleta do nome do usuário\n",
        "nome_usuario = input(\"Anya: Pra começar, qual é o teu nome, meu amo?\")\n",
        "print(f\"Anya: {nome_usuario}, que nome lindo! 😍 Adorei! Prazer em te conhecer! 😄\\n\")\n",
        "\n",
        "# Objetivos de saúde do usuário\n",
        "print(\"Anya: Agora me conte, o que te motiva a buscar uma vida mais saudável? 🤔\")\n",
        "print(\"Anya: Quer emagrecer, ganhar massa muscular, ter mais energia, ou simplesmente se alimentar melhor?\\n\")\n",
        "objetivo_usuario = input(\"Você: \")\n",
        "\n",
        "# Oferta de serviços\n",
        "print(\"Posso te ajudar com:\")\n",
        "print(\"1. Te ajudar a montar um plano alimentar personalizado: com base nas suas necessidades, preferências, restrições e objetivos, monto um cardápio cheio de delícias saudáveis para você! \")\n",
        "print(\"2. Analisar suas refeições: me conte o que você comeu e te dou um feedback sobre a composição nutricional, te mostrando os pontos fortes e o que pode melhorar.\")\n",
        "print(\"3. Te dar sugestões de receitas saudáveis e saborosas: para você nunca cair na rotina e ter sempre opções deliciosas e nutritivas para se alimentar. \\n\")\n",
        "\n",
        "# Loop principal\n",
        "while True:\n",
        "    prompt = input(\"Você: \")\n",
        "    if prompt.lower() == \"tchau\":\n",
        "        break\n",
        "\n",
        "    response = chat.send_message(prompt)\n",
        "    print(\"Anya:\", response.text, \"\\n\")\n",
        "\n",
        "    # Lógica das escolhas\n",
        "    if \"1\" in prompt.lower() or \"plano alimentar\" in prompt.lower():\n",
        "        print(\"Anya: Pra esse plano ficar redondinho, preciso de mais algumas informações, preciso te conhecer melhor. Me fale...\")\n",
        "\n",
        "        # Perguntas sobre o usuário (idade, peso, altura, etc.)\n",
        "        idade = input(f\"Anya: Qual sua idade, {nome_usuario}? \")\n",
        "        peso = input(\"Anya: Qual o seu peso em kg? \")\n",
        "        altura = input(\"Anya: Qual a sua altura em cm? \")\n",
        "        doenças = input(\"Anya: Você tem alguma doença ou condição de saúde? \")\n",
        "        restricoes = input(\"Anya: Você tem alguma restrição alimentar? (alergia, intolerância, etc.) \")\n",
        "        gostos =  input(\"Anya: O que você gosta de comer? (frutas, legumes, carnes...) \")\n",
        "        aversões =  input(\"Anya: E o que você não gosta de jeito nenhum? 🤢 (aquele quiabo que te dá arrepios, por exemplo! 😂) \")\n",
        "\n",
        "    elif \"2\" in prompt.lower() or \"análise da refeição\" in prompt.lower():\n",
        "        print(\"Anya: Hmmm, vamos analisar essa refeição! 😋 Me conte tudo o que você comeu:\")\n",
        "        # Coletar informações sobre a refeição\n",
        "        refeicao = input(\"Você: \")\n",
        "        print(\"Anya: Entendi! Vou analisar e te dar um feedback sobre essa refeição.\")\n",
        "    elif \"3\" in prompt.lower() or \"receitas\" in prompt.lower():\n",
        "        print(\"Anya: Que delícia! 😋 Me fale o que você gosta de comer, quais ingredientes você prefere, e se tem alguma restrição alimentar:\")\n",
        "        # Coletar informações sobre preferências e restrições\n",
        "        ingredientes = input(\"Você: \")\n",
        "        restricoes = input(\"Você: \")\n",
        "        print(\"Anya: Entendi! Vou te recomendar algumas receitas com base nessas informações.\")\n",
        "    else:\n",
        "        print(\"Anya: Algo mais?\")\n",
        "\n",
        "# Encerramento do programa\n",
        "print(\"Anya: Até mais!\")\n"
      ],
      "metadata": {
        "colab": {
          "base_uri": "https://localhost:8080/"
        },
        "id": "68l7Tzb0ySdw",
        "outputId": "575ad5e4-aced-4a52-f238-d8e92bcd54e0"
      },
      "execution_count": null,
      "outputs": [
        {
          "output_type": "stream",
          "name": "stdout",
          "text": [
            "Anya: Eita, voltei! 😄 Pronta para dar um up na sua saúde! 💪 \n",
            "Vamos começar essa jornada? ✨\n"
          ]
        }
      ]
    }
  ]
}
